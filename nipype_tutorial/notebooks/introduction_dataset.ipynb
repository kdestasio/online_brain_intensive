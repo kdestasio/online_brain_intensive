{
 "cells": [
  {
   "cell_type": "markdown",
   "metadata": {},
   "source": [
    "<p></p>\n",
    "<p style=\"text-align:center\"><font size=\"20\">BRAIN IMAGING</font></p>\n",
    "<p style=\"text-align:center\"><font size=\"20\">DATA STRUCTURE</font></p>"
   ]
  },
  {
   "cell_type": "markdown",
   "metadata": {},
   "source": [
    "The dataset for this tutorial is structured according to the [Brain Imaging Data Structure (BIDS)](http://bids.neuroimaging.io/). BIDS is a simple and intuitive way to organize and describe your neuroimaging and behavioral data. Neuroimaging experiments result in complicated data that can be arranged in many different ways. So far there is no consensus how to organize and share data obtained in neuroimaging experiments. BIDS tackles this problem by suggesting a new standard for the arrangement of neuroimaging datasets."
   ]
  },
  {
   "cell_type": "markdown",
   "metadata": {},
   "source": [
    "The idea of BIDS is that the file and folder names follow a strict set of rules:\n",
    "\n",
    "![](../static/images/bids.png)\n"
   ]
  },
  {
   "cell_type": "markdown",
   "metadata": {},
   "source": [
    "Using the same structure for all of your studies will allow you to easily reuse all of your scripts between studies. But additionally, it also has the advantage that sharing code with and using scripts from other researchers will be much easier."
   ]
  },
  {
   "cell_type": "markdown",
   "metadata": {},
   "source": [
    "# Tutorial Dataset\n",
    "\n",
    "For this tutorial we will be using a subset of an [fMRI dataset](https://openfmri.org/dataset/ds000114/) publicly available on [openfmri.org](https://openfmri.org). We will use [Datalad](http://datalad.org/) to download a subset of this dataset, via the [datalad repository](http://datasets.datalad.org/?dir=/workshops/nih-2017/ds000114). In order to install dataset with all subrepositories you can run:"
   ]
  },
  {
   "cell_type": "code",
   "execution_count": null,
   "metadata": {
    "collapsed": true
   },
   "outputs": [],
   "source": [
    "%%bash\n",
    "cd /data\n",
    "datalad install -r ///workshops/nih-2017/ds000114"
   ]
  },
  {
   "cell_type": "markdown",
   "metadata": {},
   "source": [
    "In order to download data you can use ``datalad get foldername`` command, to download all files in the folder ``foldername``. For this tutorial we only want to download part of the dataset, i.e. the anatomial and the first functional images:"
   ]
  },
  {
   "cell_type": "code",
   "execution_count": null,
   "metadata": {
    "collapsed": true
   },
   "outputs": [],
   "source": [
    "%%bash\n",
    "cd /data/ds000114\n",
    "datalad get sub-*/ses-test/anat\n",
    "datalad get sub-*/ses-test/func/*fingerfootlips*\n",
    "datalad get derivatives/fmriprep/sub-*/anat\n",
    "datalad get derivatives/fmriprep/sub-*/ses-test/func/*fingerfootlips*"
   ]
  },
  {
   "cell_type": "markdown",
   "metadata": {},
   "source": [
    "So let's have a look at the tutorial dataset."
   ]
  },
  {
   "cell_type": "code",
   "execution_count": null,
   "metadata": {
    "scrolled": true
   },
   "outputs": [
    {
     "name": "stdout",
     "output_type": "stream",
     "text": [
      "/data/ds000114/\r\n",
      "├── CHANGES\r\n",
      "├── dataset_description.json\r\n",
      "├── derivatives\r\n",
      "│   ├── fmriprep\r\n",
      "│   │   ├── mni_icbm152_nlin_asym_09c\r\n",
      "│   │   │   ├── 1mm_brainmask.nii.gz\r\n",
      "│   │   │   ├── 1mm_eyemask.nii.gz\r\n",
      "│   │   │   ├── 1mm_facemask.nii.gz\r\n",
      "│   │   │   ├── 1mm_headmask.nii.gz\r\n",
      "│   │   │   ├── 1mm_parc.nii.gz\r\n",
      "│   │   │   ├── 1mm_PD.nii.gz\r\n",
      "│   │   │   ├── 1mm_PD_orig.nii.gz\r\n",
      "│   │   │   ├── 1mm_T1.nii.gz\r\n",
      "│   │   │   ├── 1mm_T1_orig.nii.gz\r\n",
      "│   │   │   ├── 1mm_T2.nii.gz\r\n",
      "│   │   │   ├── 1mm_T2_orig.nii.gz\r\n",
      "│   │   │   ├── 1mm_tpm_csf.nii.gz\r\n",
      "│   │   │   ├── 1mm_tpm_gm.nii.gz\r\n",
      "│   │   │   ├── 1mm_tpm_wm.nii.gz\r\n",
      "│   │   │   ├── 2mm_brainmask.nii.gz\r\n",
      "│   │   │   ├── 2mm_eyemask.nii.gz\r\n",
      "│   │   │   ├── 2mm_facemask.nii.gz\r\n",
      "│   │   │   ├── 2mm_headmask.nii.gz\r\n",
      "│   │   │   ├── 2mm_parc.nii.gz\r\n",
      "│   │   │   ├── 2mm_PD.nii.gz\r\n",
      "│   │   │   ├── 2mm_T1.nii.gz\r\n",
      "│   │   │   ├── 2mm_T2.nii.gz\r\n",
      "│   │   │   ├── 2mm_tpm_csf.nii.gz\r\n",
      "│   │   │   ├── 2mm_tpm_gm.nii.gz\r\n",
      "│   │   │   ├── 2mm_tpm_wm.nii.gz\r\n",
      "│   │   │   └── scripts\r\n",
      "│   │   ├── sub-01\r\n",
      "│   │   │   ├── anat\r\n",
      "│   │   │   ├── ses-retest\r\n",
      "│   │   │   └── ses-test\r\n",
      "│   │   ├── sub-01.html\r\n",
      "│   │   └── sub-02...sub-10\r\n",
      "│   └── freesurfer\r\n",
      "│       ├── fsaverage\r\n",
      "│       │   ├── label\r\n",
      "│       │   ├── mri\r\n",
      "│       │   ├── mri.2mm\r\n",
      "│       │   ├── scripts\r\n",
      "│       │   ├── surf\r\n",
      "│       │   └── xhemi\r\n",
      "│       ├── fsaverage5\r\n",
      "│       │   ├── label\r\n",
      "│       │   ├── lh.reg.template.tif\r\n",
      "│       │   ├── mri\r\n",
      "│       │   ├── rh.reg.template.tif\r\n",
      "│       │   ├── scripts\r\n",
      "│       │   ├── stats\r\n",
      "│       │   └── surf\r\n",
      "│       ├── sub-01\r\n",
      "│       │   ├── label\r\n",
      "│       │   ├── mri\r\n",
      "│       │   ├── scripts\r\n",
      "│       │   ├── stats\r\n",
      "│       │   ├── surf\r\n",
      "│       │   └── touch\r\n",
      "│       └── sub-02...sub-10\r\n",
      "├── dwi.bval\r\n",
      "├── dwi.bvec\r\n",
      "├── sub-01\r\n",
      "│   ├── ses-retest\r\n",
      "│   │   ├── anat\r\n",
      "│   │   │   └── sub-01_ses-retest_T1w.nii.gz\r\n",
      "│   │   ├── dwi\r\n",
      "│   │   │   └── sub-01_ses-retest_dwi.nii.gz\r\n",
      "│   │   └── func\r\n",
      "│   │       ├── sub-01_ses-retest_task-covertverbgeneration_bold.nii.gz\r\n",
      "│   │       ├── sub-01_ses-retest_task-fingerfootlips_bold.nii.gz\r\n",
      "│   │       ├── sub-01_ses-retest_task-linebisection_bold.nii.gz\r\n",
      "│   │       ├── sub-01_ses-retest_task-linebisection_events.tsv\r\n",
      "│   │       ├── sub-01_ses-retest_task-overtverbgeneration_bold.nii.gz\r\n",
      "│   │       └── sub-01_ses-retest_task-overtwordrepetition_bold.nii.gz\r\n",
      "│   └── ses-test\r\n",
      "│       ├── anat\r\n",
      "│       │   └── sub-01_ses-test_T1w.nii.gz\r\n",
      "│       ├── dwi\r\n",
      "│       │   └── sub-01_ses-test_dwi.nii.gz\r\n",
      "│       └── func\r\n",
      "│           ├── sub-01_ses-test_task-covertverbgeneration_bold.nii.gz\r\n",
      "│           ├── sub-01_ses-test_task-fingerfootlips_bold.nii.gz\r\n",
      "│           ├── sub-01_ses-test_task-linebisection_bold.nii.gz\r\n",
      "│           ├── sub-01_ses-test_task-linebisection_events.tsv\r\n",
      "│           ├── sub-01_ses-test_task-overtverbgeneration_bold.nii.gz\r\n",
      "│           └── sub-01_ses-test_task-overtwordrepetition_bold.nii.gz\r\n",
      "├── sub-02...sub-10\r\n",
      "├── task-covertverbgeneration_bold.json\r\n",
      "├── task-covertverbgeneration_events.tsv\r\n",
      "├── task-fingerfootlips_bold.json\r\n",
      "├── task-fingerfootlips_events.tsv\r\n",
      "├── task-linebisection_bold.json\r\n",
      "├── task-overtverbgeneration_bold.json\r\n",
      "├── task-overtverbgeneration_events.tsv\r\n",
      "├── task-overtwordrepetition_bold.json\r\n",
      "└── task-overtwordrepetition_events.tsv\r\n",
      "\r\n",
      "218 directories, 210 files\r\n"
     ]
    }
   ],
   "source": [
    "!tree -L 4 /data/ds000114/"
   ]
  },
  {
   "cell_type": "markdown",
   "metadata": {},
   "source": [
    "As you can, for every subject we have one anatomical T1w image, five functional images and one diffusion weighted image. In addition, we have directory with derivatives. \n",
    "\n",
    "**Note**: If you used `datalad` or `git annex` to get the dataset, you can see symlinks for the image files."
   ]
  },
  {
   "cell_type": "markdown",
   "metadata": {},
   "source": [
    "# Behavioral Task\n",
    "\n",
    "Subject from the ds000114 dataset did five behavioral tasks. In our dataset two of them are included. \n",
    "\n",
    "The **motor task** consisted of ***finger tapping***, ***foot twitching*** and ***lip poaching*** interleaved with fixation at a cross.\n",
    "\n",
    "The **landmark task** was designed to mimic the ***line bisection task*** used in neurological practice to diagnose spatial hemineglect. Two conditions were contrasted, specifically judging if a horizontal line had been bisected exactly in the middle, versus judging if a horizontal line was bisected at all. More about the dataset and studies you can find [here](https://www.ncbi.nlm.nih.gov/pmc/articles/PMC3641991/).\n",
    "\n",
    "To each of the functional images above, we therefore also have a tab-separated values file (``tva``), containing information such as stimuli onset, duration, type, etc. So let's have a look at one of them:"
   ]
  },
  {
   "cell_type": "code",
   "execution_count": null,
   "metadata": {
    "scrolled": false
   },
   "outputs": [
    {
     "name": "stdout",
     "output_type": "stream",
     "text": [
      "onset\t\tduration\tweight\ttrial_type\r\n",
      "24.3065\t\t1\t\t1.0\tIncorrect_Task\r\n",
      "25.9465\t\t1\t\t1.0\tCorrect_Task\r\n",
      "27.5865\t\t1\t\t1.0\tCorrect_Task\r\n",
      "29.2265\t\t1\t\t1.0\tNo_Response_Task\r\n",
      "30.8664\t\t1\t\t1.0\tIncorrect_Task\r\n",
      "32.5064\t\t1\t\t1.0\tNo_Response_Task\r\n",
      "34.1464\t\t1\t\t1.0\tCorrect_Task\r\n",
      "35.7864\t\t1\t\t1.0\tIncorrect_Task\r\n",
      "37.4264\t\t1\t\t1.0\tCorrect_Task\r\n",
      "39.0664\t\t1\t\t1.0\tIncorrect_Task\r\n",
      "56.973\t\t1\t\t1.0\tResponse_Control\r\n",
      "58.613\t\t1\t\t1.0\tNo_Response_Control\r\n",
      "60.253\t\t1\t\t1.0\tResponse_Control\r\n",
      "61.893\t\t1\t\t1.0\tNo_Response_Control\r\n",
      "63.533\t\t1\t\t1.0\tResponse_Control\r\n",
      "65.173\t\t1\t\t1.0\tResponse_Control\r\n",
      "...\r\n",
      "522.5041\t1\t\t1.0\tNo_Response_Control\r\n",
      "524.1441\t1\t\t1.0\tResponse_Control\r\n",
      "525.7841\t1\t\t1.0\tNo_Response_Control\r\n",
      "527.4241\t1\t\t1.0\tResponse_Control\r\n",
      "529.0641\t1\t\t1.0\tNo_Response_Control\r\n"
     ]
    }
   ],
   "source": [
    "!cat /data/ds000114/sub-01/ses-test/func/sub-01_ses-test_task-linebisection_events.tsv"
   ]
  }
 ],
 "metadata": {
  "anaconda-cloud": {},
  "kernelspec": {
   "display_name": "Python 3",
   "language": "python",
   "name": "python3"
  },
  "language_info": {
   "codemirror_mode": {
    "name": "ipython",
    "version": 3
   },
   "file_extension": ".py",
   "mimetype": "text/x-python",
   "name": "python",
   "nbconvert_exporter": "python",
   "pygments_lexer": "ipython3",
   "version": "3.6.2"
  }
 },
 "nbformat": 4,
 "nbformat_minor": 2
}
