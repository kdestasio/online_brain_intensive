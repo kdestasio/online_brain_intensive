{
 "cells": [
  {
   "cell_type": "markdown",
   "metadata": {},
   "source": [
    "## Data input for BIDS datasets\n",
    "`DataGrabber` and `SelectFiles` are great if you are dealing with generic datasets with arbitrary organization. However if you have decided to use Brain Imaging Data Structure (BIDS) to organized your data (or got your hands on a BIDS dataset) you can take advanted of a formal structure BIDS imposes. In this short tutorial you will learn how to do this."
   ]
  },
  {
   "cell_type": "markdown",
   "metadata": {},
   "source": [
    "## `pybids` - a Python API for working with BIDS datasets\n",
    "`pybids` is a lightweight python API for querying BIDS folder structure for specific files and metadata. You can install it from PyPi:\n",
    "```\n",
    "pip install pybids\n",
    "```\n",
    "Please note it should be already installed in the tutorial Docker image."
   ]
  },
  {
   "cell_type": "markdown",
   "metadata": {},
   "source": [
    "## The `layout` object and simple queries\n",
    "To begin working with pubids we need to initalize a layout object. We will need it to do all of our queries"
   ]
  },
  {
   "cell_type": "code",
   "execution_count": 3,
   "metadata": {
    "collapsed": true
   },
   "outputs": [],
   "source": [
    "from bids.grabbids import BIDSLayout\n",
    "layout = BIDSLayout(\"/data/ds000114/\")"
   ]
  },
  {
   "cell_type": "code",
   "execution_count": 4,
   "metadata": {},
   "outputs": [
    {
     "name": "stdout",
     "output_type": "stream",
     "text": [
      "/data/ds000114/ [error opening dir]\r\n",
      "\r\n",
      "0 directories, 0 files\r\n"
     ]
    }
   ],
   "source": [
    "!tree -L 4 /data/ds000114/"
   ]
  },
  {
   "cell_type": "markdown",
   "metadata": {},
   "source": [
    "Let's figure out what are the subject labels in this dataset"
   ]
  },
  {
   "cell_type": "code",
   "execution_count": null,
   "metadata": {},
   "outputs": [
    {
     "data": {
      "text/plain": [
       "['01', '02', '03', '04', '05', '06', '07', '08', '09', '10']"
      ]
     },
     "execution_count": null,
     "metadata": {},
     "output_type": "execute_result"
    }
   ],
   "source": [
    "layout.get_subjects()"
   ]
  },
  {
   "cell_type": "markdown",
   "metadata": {},
   "source": [
    "What modalities are included in this dataset?"
   ]
  },
  {
   "cell_type": "code",
   "execution_count": null,
   "metadata": {},
   "outputs": [
    {
     "data": {
      "text/plain": [
       "['anat', 'dwi', 'func']"
      ]
     },
     "execution_count": null,
     "metadata": {},
     "output_type": "execute_result"
    }
   ],
   "source": [
    "layout.get_modalities()"
   ]
  },
  {
   "cell_type": "markdown",
   "metadata": {},
   "source": [
    "What different data types are included in this dataset?"
   ]
  },
  {
   "cell_type": "code",
   "execution_count": null,
   "metadata": {},
   "outputs": [
    {
     "data": {
      "text/plain": [
       "['bold', 'brainmask', 'confounds', 'events', 'fsaverage5', 'preproc']"
      ]
     },
     "execution_count": null,
     "metadata": {},
     "output_type": "execute_result"
    }
   ],
   "source": [
    "layout.get_types(modality='func')"
   ]
  },
  {
   "cell_type": "markdown",
   "metadata": {},
   "source": [
    "What are the different tasks included in this dataset?"
   ]
  },
  {
   "cell_type": "code",
   "execution_count": null,
   "metadata": {},
   "outputs": [
    {
     "data": {
      "text/plain": [
       "['covertverbgeneration',\n",
       " 'fingerfootlips',\n",
       " 'linebisection',\n",
       " 'overtverbgeneration',\n",
       " 'overtwordrepetition']"
      ]
     },
     "execution_count": null,
     "metadata": {},
     "output_type": "execute_result"
    }
   ],
   "source": [
    "layout.get_tasks()"
   ]
  },
  {
   "cell_type": "markdown",
   "metadata": {},
   "source": [
    "We can also ask for all of the data for a particular subject and one modality."
   ]
  },
  {
   "cell_type": "code",
   "execution_count": null,
   "metadata": {},
   "outputs": [
    {
     "data": {
      "text/plain": [
       "[File(filename='/data/ds000114/sub-01/ses-test/anat/sub-01_ses-test_T1w.nii.gz', subject='01', session='test', type='T1w', modality='anat')]"
      ]
     },
     "execution_count": null,
     "metadata": {},
     "output_type": "execute_result"
    }
   ],
   "source": [
    "layout.get(subject='01', modality=\"anat\", session=\"test\")"
   ]
  },
  {
   "cell_type": "markdown",
   "metadata": {},
   "source": [
    "We can also ask for a specific subset of data. Note that we are using extension filter to get just the imaging data (BIDS allows both .nii and .nii.gz so we need to include both)."
   ]
  },
  {
   "cell_type": "code",
   "execution_count": null,
   "metadata": {},
   "outputs": [
    {
     "data": {
      "text/plain": [
       "[File(filename='/data/ds000114/sub-01/ses-retest/func/sub-01_ses-retest_task-covertverbgeneration_bold.nii.gz', subject='01', session='retest', type='bold', task='covertverbgeneration', modality='func'),\n",
       " File(filename='/data/ds000114/sub-01/ses-retest/func/sub-01_ses-retest_task-fingerfootlips_bold.nii.gz', subject='01', session='retest', type='bold', task='fingerfootlips', modality='func'),\n",
       " File(filename='/data/ds000114/sub-01/ses-retest/func/sub-01_ses-retest_task-linebisection_bold.nii.gz', subject='01', session='retest', type='bold', task='linebisection', modality='func'),\n",
       " File(filename='/data/ds000114/sub-01/ses-retest/func/sub-01_ses-retest_task-overtverbgeneration_bold.nii.gz', subject='01', session='retest', type='bold', task='overtverbgeneration', modality='func'),\n",
       " File(filename='/data/ds000114/sub-01/ses-retest/func/sub-01_ses-retest_task-overtwordrepetition_bold.nii.gz', subject='01', session='retest', type='bold', task='overtwordrepetition', modality='func'),\n",
       " File(filename='/data/ds000114/sub-01/ses-test/func/sub-01_ses-test_task-covertverbgeneration_bold.nii.gz', subject='01', session='test', type='bold', task='covertverbgeneration', modality='func'),\n",
       " File(filename='/data/ds000114/sub-01/ses-test/func/sub-01_ses-test_task-fingerfootlips_bold.nii.gz', subject='01', session='test', type='bold', task='fingerfootlips', modality='func'),\n",
       " File(filename='/data/ds000114/sub-01/ses-test/func/sub-01_ses-test_task-linebisection_bold.nii.gz', subject='01', session='test', type='bold', task='linebisection', modality='func'),\n",
       " File(filename='/data/ds000114/sub-01/ses-test/func/sub-01_ses-test_task-overtverbgeneration_bold.nii.gz', subject='01', session='test', type='bold', task='overtverbgeneration', modality='func'),\n",
       " File(filename='/data/ds000114/sub-01/ses-test/func/sub-01_ses-test_task-overtwordrepetition_bold.nii.gz', subject='01', session='test', type='bold', task='overtwordrepetition', modality='func')]"
      ]
     },
     "execution_count": null,
     "metadata": {},
     "output_type": "execute_result"
    }
   ],
   "source": [
    "layout.get(subject='01', type='bold', extensions=['nii', 'nii.gz'])"
   ]
  },
  {
   "cell_type": "markdown",
   "metadata": {},
   "source": [
    "You probably noticed that this method does not only return the file paths, but objects with relevant query fields. We can easily extract just the file paths."
   ]
  },
  {
   "cell_type": "code",
   "execution_count": null,
   "metadata": {},
   "outputs": [
    {
     "data": {
      "text/plain": [
       "['/data/ds000114/sub-01/ses-retest/func/sub-01_ses-retest_task-covertverbgeneration_bold.nii.gz',\n",
       " '/data/ds000114/sub-01/ses-retest/func/sub-01_ses-retest_task-fingerfootlips_bold.nii.gz',\n",
       " '/data/ds000114/sub-01/ses-retest/func/sub-01_ses-retest_task-linebisection_bold.nii.gz',\n",
       " '/data/ds000114/sub-01/ses-retest/func/sub-01_ses-retest_task-overtverbgeneration_bold.nii.gz',\n",
       " '/data/ds000114/sub-01/ses-retest/func/sub-01_ses-retest_task-overtwordrepetition_bold.nii.gz',\n",
       " '/data/ds000114/sub-01/ses-test/func/sub-01_ses-test_task-covertverbgeneration_bold.nii.gz',\n",
       " '/data/ds000114/sub-01/ses-test/func/sub-01_ses-test_task-fingerfootlips_bold.nii.gz',\n",
       " '/data/ds000114/sub-01/ses-test/func/sub-01_ses-test_task-linebisection_bold.nii.gz',\n",
       " '/data/ds000114/sub-01/ses-test/func/sub-01_ses-test_task-overtverbgeneration_bold.nii.gz',\n",
       " '/data/ds000114/sub-01/ses-test/func/sub-01_ses-test_task-overtwordrepetition_bold.nii.gz']"
      ]
     },
     "execution_count": null,
     "metadata": {},
     "output_type": "execute_result"
    }
   ],
   "source": [
    "[f.filename for f in layout.get(subject='01', type='bold', extensions=['nii', 'nii.gz'])]"
   ]
  },
  {
   "cell_type": "markdown",
   "metadata": {},
   "source": [
    "### Exercise 1:\n",
    "List all files for the \"linebisection\" task for subject 02."
   ]
  },
  {
   "cell_type": "markdown",
   "metadata": {},
   "source": [
    "## Including `pybids` in your `nipype` workflow\n",
    "This is great, but what we really want is to include this into our `nipype` workflows. How to do this? We can create our own custom `BIDSDataGrabber` using a `Function` Interface. First we need a plain Python function that for a given subject label and dataset location will return list of BOLD files."
   ]
  },
  {
   "cell_type": "code",
   "execution_count": null,
   "metadata": {
    "collapsed": true
   },
   "outputs": [],
   "source": [
    "def get_niftis(subject_id, data_dir):\n",
    "    # Remember that all the necesary imports need to be INSIDE the function for the Function Interface to work!\n",
    "    from bids.grabbids import BIDSLayout\n",
    "    \n",
    "    layout = BIDSLayout(data_dir)\n",
    "    \n",
    "    bolds = [f.filename for f in layout.get(subject=subject_id, type=\"bold\", extensions=['nii', 'nii.gz'])]\n",
    "    \n",
    "    return bolds"
   ]
  },
  {
   "cell_type": "code",
   "execution_count": null,
   "metadata": {},
   "outputs": [
    {
     "data": {
      "text/plain": [
       "['/data/ds000114/sub-01/ses-retest/func/sub-01_ses-retest_task-covertverbgeneration_bold.nii.gz',\n",
       " '/data/ds000114/sub-01/ses-retest/func/sub-01_ses-retest_task-fingerfootlips_bold.nii.gz',\n",
       " '/data/ds000114/sub-01/ses-retest/func/sub-01_ses-retest_task-linebisection_bold.nii.gz',\n",
       " '/data/ds000114/sub-01/ses-retest/func/sub-01_ses-retest_task-overtverbgeneration_bold.nii.gz',\n",
       " '/data/ds000114/sub-01/ses-retest/func/sub-01_ses-retest_task-overtwordrepetition_bold.nii.gz',\n",
       " '/data/ds000114/sub-01/ses-test/func/sub-01_ses-test_task-covertverbgeneration_bold.nii.gz',\n",
       " '/data/ds000114/sub-01/ses-test/func/sub-01_ses-test_task-fingerfootlips_bold.nii.gz',\n",
       " '/data/ds000114/sub-01/ses-test/func/sub-01_ses-test_task-linebisection_bold.nii.gz',\n",
       " '/data/ds000114/sub-01/ses-test/func/sub-01_ses-test_task-overtverbgeneration_bold.nii.gz',\n",
       " '/data/ds000114/sub-01/ses-test/func/sub-01_ses-test_task-overtwordrepetition_bold.nii.gz']"
      ]
     },
     "execution_count": null,
     "metadata": {},
     "output_type": "execute_result"
    }
   ],
   "source": [
    "get_niftis('01', '/data/ds000114')"
   ]
  },
  {
   "cell_type": "markdown",
   "metadata": {},
   "source": [
    "Ok we got our function. Now we need to wrap it inside a Node object."
   ]
  },
  {
   "cell_type": "code",
   "execution_count": null,
   "metadata": {
    "collapsed": true
   },
   "outputs": [],
   "source": [
    "from nipype.pipeline import Node, MapNode, Workflow\n",
    "from nipype.interfaces.utility import IdentityInterface, Function"
   ]
  },
  {
   "cell_type": "code",
   "execution_count": null,
   "metadata": {
    "collapsed": true
   },
   "outputs": [],
   "source": [
    "BIDSDataGrabber = Node(Function(function=get_niftis, input_names=[\"subject_id\",\n",
    "                                       \"data_dir\"],\n",
    "                                   output_names=[\"bolds\"]), name=\"BIDSDataGrabber\")\n",
    "BIDSDataGrabber.inputs.data_dir = \"/data/ds000114\""
   ]
  },
  {
   "cell_type": "code",
   "execution_count": null,
   "metadata": {},
   "outputs": [
    {
     "name": "stdout",
     "output_type": "stream",
     "text": [
      "170904-05:41:32,143 workflow INFO:\n",
      "\t Executing node BIDSDataGrabber in dir: /tmp/tmppp9obk8m/BIDSDataGrabber\n"
     ]
    },
    {
     "data": {
      "text/plain": [
       "\n",
       "bolds = ['/data/ds000114/sub-01/ses-retest/func/sub-01_ses-retest_task-covertverbgeneration_bold.nii.gz', '/data/ds000114/sub-01/ses-retest/func/sub-01_ses-retest_task-fingerfootlips_bold.nii.gz', '/data/ds000114/sub-01/ses-retest/func/sub-01_ses-retest_task-linebisection_bold.nii.gz', '/data/ds000114/sub-01/ses-retest/func/sub-01_ses-retest_task-overtverbgeneration_bold.nii.gz', '/data/ds000114/sub-01/ses-retest/func/sub-01_ses-retest_task-overtwordrepetition_bold.nii.gz', '/data/ds000114/sub-01/ses-test/func/sub-01_ses-test_task-covertverbgeneration_bold.nii.gz', '/data/ds000114/sub-01/ses-test/func/sub-01_ses-test_task-fingerfootlips_bold.nii.gz', '/data/ds000114/sub-01/ses-test/func/sub-01_ses-test_task-linebisection_bold.nii.gz', '/data/ds000114/sub-01/ses-test/func/sub-01_ses-test_task-overtverbgeneration_bold.nii.gz', '/data/ds000114/sub-01/ses-test/func/sub-01_ses-test_task-overtwordrepetition_bold.nii.gz']"
      ]
     },
     "execution_count": null,
     "metadata": {},
     "output_type": "execute_result"
    }
   ],
   "source": [
    "BIDSDataGrabber.inputs.subject_id='01'\n",
    "res = BIDSDataGrabber.run()\n",
    "res.outputs"
   ]
  },
  {
   "cell_type": "markdown",
   "metadata": {},
   "source": [
    "Works like a charm! (hopefully :) Lets put it in a workflow. We are not going to analyze any data, but for demostrantion purposes we will add a couple of nodes that pretend to analyze their inputs"
   ]
  },
  {
   "cell_type": "code",
   "execution_count": null,
   "metadata": {
    "collapsed": true
   },
   "outputs": [],
   "source": [
    "def printMe(paths):\n",
    "    print(\"\\n\\nanalyzing \" + str(paths) + \"\\n\\n\")\n",
    "    \n",
    "analyzeBOLD = Node(Function(function=printMe, input_names=[\"paths\"],\n",
    "                            output_names=[]), name=\"analyzeBOLD\")"
   ]
  },
  {
   "cell_type": "code",
   "execution_count": null,
   "metadata": {
    "scrolled": true
   },
   "outputs": [
    {
     "name": "stdout",
     "output_type": "stream",
     "text": [
      "170904-05:41:37,713 workflow INFO:\n",
      "\t Workflow bids_demo settings: ['check', 'execution', 'logging']\n",
      "170904-05:41:37,719 workflow INFO:\n",
      "\t Running serially.\n",
      "170904-05:41:37,721 workflow INFO:\n",
      "\t Executing node BIDSDataGrabber in dir: /tmp/tmpaf1g0sbc/bids_demo/BIDSDataGrabber\n",
      "170904-05:41:38,119 workflow INFO:\n",
      "\t Executing node analyzeBOLD in dir: /tmp/tmpk3f9hfaf/bids_demo/analyzeBOLD\n",
      "\n",
      "\n",
      "analyzing ['/data/ds000114/sub-01/ses-retest/func/sub-01_ses-retest_task-covertverbgeneration_bold.nii.gz', '/data/ds000114/sub-01/ses-retest/func/sub-01_ses-retest_task-fingerfootlips_bold.nii.gz', '/data/ds000114/sub-01/ses-retest/func/sub-01_ses-retest_task-linebisection_bold.nii.gz', '/data/ds000114/sub-01/ses-retest/func/sub-01_ses-retest_task-overtverbgeneration_bold.nii.gz', '/data/ds000114/sub-01/ses-retest/func/sub-01_ses-retest_task-overtwordrepetition_bold.nii.gz', '/data/ds000114/sub-01/ses-test/func/sub-01_ses-test_task-covertverbgeneration_bold.nii.gz', '/data/ds000114/sub-01/ses-test/func/sub-01_ses-test_task-fingerfootlips_bold.nii.gz', '/data/ds000114/sub-01/ses-test/func/sub-01_ses-test_task-linebisection_bold.nii.gz', '/data/ds000114/sub-01/ses-test/func/sub-01_ses-test_task-overtverbgeneration_bold.nii.gz', '/data/ds000114/sub-01/ses-test/func/sub-01_ses-test_task-overtwordrepetition_bold.nii.gz']\n",
      "\n",
      "\n"
     ]
    },
    {
     "data": {
      "text/plain": [
       "<networkx.classes.digraph.DiGraph at 0x7f986846e438>"
      ]
     },
     "execution_count": null,
     "metadata": {},
     "output_type": "execute_result"
    }
   ],
   "source": [
    "wf = Workflow(name=\"bids_demo\")\n",
    "wf.connect(BIDSDataGrabber, \"bolds\", analyzeBOLD, \"paths\")\n",
    "wf.run()"
   ]
  },
  {
   "cell_type": "markdown",
   "metadata": {},
   "source": [
    "### Exercise 2:\n",
    "Modify the `BIDSDataGrabber` and the workflow to include T1ws."
   ]
  },
  {
   "cell_type": "markdown",
   "metadata": {},
   "source": [
    "## Iterating over subject labels\n",
    "In the previous example we demostrated how to use `pybids` to \"analyze\" one subject. How can we scale it for all subjects? Easy - using `iterables` (more in [Iteration/Iterables](basic_iteration.ipynb)."
   ]
  },
  {
   "cell_type": "code",
   "execution_count": null,
   "metadata": {
    "scrolled": false
   },
   "outputs": [
    {
     "name": "stdout",
     "output_type": "stream",
     "text": [
      "170904-05:41:39,742 workflow INFO:\n",
      "\t Workflow bids_demo settings: ['check', 'execution', 'logging']\n",
      "170904-05:41:39,750 workflow INFO:\n",
      "\t Running serially.\n",
      "170904-05:41:39,751 workflow INFO:\n",
      "\t Executing node BIDSDataGrabber.aI.a1 in dir: /tmp/tmp1zylbx6z/bids_demo/_subject_id_02/BIDSDataGrabber\n",
      "170904-05:41:40,141 workflow INFO:\n",
      "\t Executing node analyzeBOLD.a1 in dir: /tmp/tmp59wngf32/bids_demo/_subject_id_02/analyzeBOLD\n",
      "\n",
      "\n",
      "analyzing ['/data/ds000114/sub-02/ses-retest/func/sub-02_ses-retest_task-covertverbgeneration_bold.nii.gz', '/data/ds000114/sub-02/ses-retest/func/sub-02_ses-retest_task-fingerfootlips_bold.nii.gz', '/data/ds000114/sub-02/ses-retest/func/sub-02_ses-retest_task-linebisection_bold.nii.gz', '/data/ds000114/sub-02/ses-retest/func/sub-02_ses-retest_task-overtverbgeneration_bold.nii.gz', '/data/ds000114/sub-02/ses-retest/func/sub-02_ses-retest_task-overtwordrepetition_bold.nii.gz', '/data/ds000114/sub-02/ses-test/func/sub-02_ses-test_task-covertverbgeneration_bold.nii.gz', '/data/ds000114/sub-02/ses-test/func/sub-02_ses-test_task-fingerfootlips_bold.nii.gz', '/data/ds000114/sub-02/ses-test/func/sub-02_ses-test_task-linebisection_bold.nii.gz', '/data/ds000114/sub-02/ses-test/func/sub-02_ses-test_task-overtverbgeneration_bold.nii.gz', '/data/ds000114/sub-02/ses-test/func/sub-02_ses-test_task-overtwordrepetition_bold.nii.gz']\n",
      "\n",
      "\n",
      "170904-05:41:40,147 workflow INFO:\n",
      "\t Executing node BIDSDataGrabber.aI.a0 in dir: /tmp/tmp_0qamd24/bids_demo/_subject_id_01/BIDSDataGrabber\n",
      "170904-05:41:40,523 workflow INFO:\n",
      "\t Executing node analyzeBOLD.a0 in dir: /tmp/tmp4b4yl0lk/bids_demo/_subject_id_01/analyzeBOLD\n",
      "\n",
      "\n",
      "analyzing ['/data/ds000114/sub-01/ses-retest/func/sub-01_ses-retest_task-covertverbgeneration_bold.nii.gz', '/data/ds000114/sub-01/ses-retest/func/sub-01_ses-retest_task-fingerfootlips_bold.nii.gz', '/data/ds000114/sub-01/ses-retest/func/sub-01_ses-retest_task-linebisection_bold.nii.gz', '/data/ds000114/sub-01/ses-retest/func/sub-01_ses-retest_task-overtverbgeneration_bold.nii.gz', '/data/ds000114/sub-01/ses-retest/func/sub-01_ses-retest_task-overtwordrepetition_bold.nii.gz', '/data/ds000114/sub-01/ses-test/func/sub-01_ses-test_task-covertverbgeneration_bold.nii.gz', '/data/ds000114/sub-01/ses-test/func/sub-01_ses-test_task-fingerfootlips_bold.nii.gz', '/data/ds000114/sub-01/ses-test/func/sub-01_ses-test_task-linebisection_bold.nii.gz', '/data/ds000114/sub-01/ses-test/func/sub-01_ses-test_task-overtverbgeneration_bold.nii.gz', '/data/ds000114/sub-01/ses-test/func/sub-01_ses-test_task-overtwordrepetition_bold.nii.gz']\n",
      "\n",
      "\n"
     ]
    },
    {
     "data": {
      "text/plain": [
       "<networkx.classes.digraph.DiGraph at 0x7f986846eef0>"
      ]
     },
     "execution_count": null,
     "metadata": {},
     "output_type": "execute_result"
    }
   ],
   "source": [
    "BIDSDataGrabber.iterables = ('subject_id', layout.get_subjects()[:2])\n",
    "wf.run()"
   ]
  },
  {
   "cell_type": "markdown",
   "metadata": {},
   "source": [
    "## Accessing additional metadata\n",
    "Querying different files is nice, but sometimes you want to access more metadata. For example `RepetitionTime`. `pybids` can help with that as well"
   ]
  },
  {
   "cell_type": "code",
   "execution_count": null,
   "metadata": {},
   "outputs": [
    {
     "data": {
      "text/plain": [
       "{'EchoTime': 0.05,\n",
       " 'FlipAngle': 90,\n",
       " 'RepetitionTime': 2.5,\n",
       " 'SliceTiming': [0.0,\n",
       "  1.2499999999999998,\n",
       "  0.08333333333333333,\n",
       "  1.333333333333333,\n",
       "  0.16666666666666666,\n",
       "  1.4166666666666663,\n",
       "  0.25,\n",
       "  1.4999999999999996,\n",
       "  0.3333333333333333,\n",
       "  1.5833333333333328,\n",
       "  0.41666666666666663,\n",
       "  1.666666666666666,\n",
       "  0.5,\n",
       "  1.7499999999999993,\n",
       "  0.5833333333333333,\n",
       "  1.8333333333333326,\n",
       "  0.6666666666666666,\n",
       "  1.9166666666666659,\n",
       "  0.75,\n",
       "  1.9999999999999991,\n",
       "  0.8333333333333333,\n",
       "  2.083333333333332,\n",
       "  0.9166666666666666,\n",
       "  2.1666666666666656,\n",
       "  1.0,\n",
       "  2.249999999999999,\n",
       "  1.0833333333333333,\n",
       "  2.333333333333332,\n",
       "  1.1666666666666665,\n",
       "  2.416666666666665],\n",
       " 'TaskName': 'finger_foot_lips'}"
      ]
     },
     "execution_count": null,
     "metadata": {},
     "output_type": "execute_result"
    }
   ],
   "source": [
    "layout.get_metadata('/data/ds000114/sub-01/ses-test/func/sub-01_ses-test_task-fingerfootlips_bold.nii.gz')"
   ]
  },
  {
   "cell_type": "markdown",
   "metadata": {},
   "source": [
    "Can we incorporate this into our pipeline? Yes we can!\n",
    "(More about MapNode in [MapNode](basic_mapnodes.ipynb))"
   ]
  },
  {
   "cell_type": "code",
   "execution_count": null,
   "metadata": {
    "collapsed": true
   },
   "outputs": [],
   "source": [
    "def printMetadata(path, data_dir):\n",
    "    from bids.grabbids import BIDSLayout\n",
    "    layout = BIDSLayout(data_dir)\n",
    "    print(\"\\n\\nanalyzing \" + path + \"\\nTR: \"+ str(layout.get_metadata(path)[\"RepetitionTime\"]) + \"\\n\\n\")\n",
    "    \n",
    "analyzeBOLD2 = MapNode(Function(function=printMetadata, input_names=[\"path\", \"data_dir\"],\n",
    "                             output_names=[]), name=\"analyzeBOLD2\", iterfield=\"path\")\n",
    "analyzeBOLD2.inputs.data_dir = \"/data/ds000114/\""
   ]
  },
  {
   "cell_type": "code",
   "execution_count": null,
   "metadata": {
    "scrolled": false
   },
   "outputs": [
    {
     "name": "stdout",
     "output_type": "stream",
     "text": [
      "170904-05:41:52,762 workflow INFO:\n",
      "\t Workflow bids_demo settings: ['check', 'execution', 'logging']\n",
      "170904-05:41:52,770 workflow INFO:\n",
      "\t Running serially.\n",
      "170904-05:41:52,771 workflow INFO:\n",
      "\t Executing node BIDSDataGrabber.aI.a1 in dir: /tmp/tmpo7ymsmt7/bids_demo/_subject_id_02/BIDSDataGrabber\n",
      "170904-05:41:53,149 workflow INFO:\n",
      "\t Executing node analyzeBOLD2.a1 in dir: /tmp/tmp6lfywdk6/bids_demo/_subject_id_02/analyzeBOLD2\n",
      "170904-05:41:53,154 workflow INFO:\n",
      "\t Executing node _analyzeBOLD20 in dir: /tmp/tmp6lfywdk6/bids_demo/_subject_id_02/analyzeBOLD2/mapflow/_analyzeBOLD20\n",
      "\n",
      "\n",
      "analyzing /data/ds000114/sub-02/ses-retest/func/sub-02_ses-retest_task-covertverbgeneration_bold.nii.gz\n",
      "TR: 2.5\n",
      "\n",
      "\n",
      "170904-05:41:53,532 workflow INFO:\n",
      "\t Executing node _analyzeBOLD21 in dir: /tmp/tmp6lfywdk6/bids_demo/_subject_id_02/analyzeBOLD2/mapflow/_analyzeBOLD21\n",
      "\n",
      "\n",
      "analyzing /data/ds000114/sub-02/ses-retest/func/sub-02_ses-retest_task-fingerfootlips_bold.nii.gz\n",
      "TR: 2.5\n",
      "\n",
      "\n",
      "...\n",
      "\n",
      "\n",
      "170904-05:41:57,282 workflow INFO:\n",
      "\t Executing node BIDSDataGrabber.aI.a0 in dir: /tmp/tmph_gu82j_/bids_demo/_subject_id_01/BIDSDataGrabber\n",
      "170904-05:41:57,678 workflow INFO:\n",
      "\t Executing node analyzeBOLD2.a0 in dir: /tmp/tmpfqjrvc05/bids_demo/_subject_id_01/analyzeBOLD2\n",
      "170904-05:41:57,682 workflow INFO:\n",
      "\t Executing node _analyzeBOLD20 in dir: /tmp/tmpfqjrvc05/bids_demo/_subject_id_01/analyzeBOLD2/mapflow/_analyzeBOLD20\n",
      "\n",
      "\n",
      "analyzing /data/ds000114/sub-01/ses-retest/func/sub-01_ses-retest_task-covertverbgeneration_bold.nii.gz\n",
      "TR: 2.5\n",
      "\n",
      "\n",
      "...\n",
      "\n",
      "\n",
      "170904-05:42:01,372 workflow INFO:\n",
      "\t Executing node _analyzeBOLD29 in dir: /tmp/tmpfqjrvc05/bids_demo/_subject_id_01/analyzeBOLD2/mapflow/_analyzeBOLD29\n",
      "\n",
      "\n",
      "analyzing /data/ds000114/sub-01/ses-test/func/sub-01_ses-test_task-overtwordrepetition_bold.nii.gz\n",
      "TR: 5.0\n",
      "\n",
      "\n"
     ]
    },
    {
     "data": {
      "text/plain": [
       "<networkx.classes.digraph.DiGraph at 0x7f9895239630>"
      ]
     },
     "execution_count": null,
     "metadata": {},
     "output_type": "execute_result"
    }
   ],
   "source": [
    "wf = Workflow(name=\"bids_demo\")\n",
    "wf.connect(BIDSDataGrabber, \"bolds\", analyzeBOLD2, \"path\")\n",
    "wf.run()"
   ]
  },
  {
   "cell_type": "markdown",
   "metadata": {},
   "source": [
    "### Exercise 3:\n",
    "Modify the `printMetadata` function to also print `EchoTime` "
   ]
  }
 ],
 "metadata": {
  "kernelspec": {
   "display_name": "Python 3",
   "language": "python",
   "name": "python3"
  },
  "language_info": {
   "codemirror_mode": {
    "name": "ipython",
    "version": 3
   },
   "file_extension": ".py",
   "mimetype": "text/x-python",
   "name": "python",
   "nbconvert_exporter": "python",
   "pygments_lexer": "ipython3",
   "version": "3.6.2"
  }
 },
 "nbformat": 4,
 "nbformat_minor": 2
}
